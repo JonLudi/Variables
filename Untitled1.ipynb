{
 "cells": [
  {
   "cell_type": "markdown",
   "id": "fa47768c-661e-4a3c-8a46-e9d629135707",
   "metadata": {},
   "source": [
    "# Variables"
   ]
  },
  {
   "cell_type": "markdown",
   "id": "f86115df-ac06-4314-8c83-003af30ffd7a",
   "metadata": {},
   "source": []
  }
 ],
 "metadata": {
  "kernelspec": {
   "display_name": "JavaScript (Node.js)",
   "language": "javascript",
   "name": "javascript"
  },
  "language_info": {
   "file_extension": ".js",
   "mimetype": "application/javascript",
   "name": "javascript",
   "version": "20.8.1"
  }
 },
 "nbformat": 4,
 "nbformat_minor": 5
}
